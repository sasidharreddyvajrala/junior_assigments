{
 "cells": [
  {
   "cell_type": "markdown",
   "id": "f92aeab6",
   "metadata": {},
   "source": [
    "#### Question 1\n",
    "```\n",
    "1. The Product class is given below. Display the namespace (value of the _dict_\n",
    "attribute) of\n",
    "2 this class as shown below.\n",
    "3 Expected result:\n",
    "4 __module__\n",
    "5 __init__\n",
    "6 __repr__\n",
    "7 get_id\n",
    "8 __dict__\n",
    "9 __weakref__\n",
    "10 __doc__\n",
    "11\n",
    "12 import uuid\n",
    "13 class Product:\n",
    "14 def __init__(self, product_name, price):\n",
    "15 self.product_id = self.get_id()\n",
    "16 self.product_name = product_name\n",
    "17 self.price = price\n",
    "18 def __repr__(self):\n",
    "19 return f\"Product(product_name='{self.product_name}', price={self.price})\"\n",
    "20 @staticmethod\n",
    "21 def get_id():\n",
    "22 return str(uuid.uuid4().fields[-1])[:6]\n",
    "```"
   ]
  },
  {
   "cell_type": "code",
   "execution_count": null,
   "id": "7e6d621a",
   "metadata": {},
   "outputs": [],
   "source": [
    "import uuid\n",
    "\n",
    "class Product:\n",
    "    def __init__(self, product_name, price):\n",
    "        self.product_id = self.get_id()\n",
    "        self.product_name = product_name\n",
    "        self.price = price\n",
    "\n",
    "    def __repr__(self):\n",
    "        return f\"Product(product_name='{self.product_name}', price={self.price})\"\n",
    "\n",
    "    @staticmethod\n",
    "    def get_id():\n",
    "        return str(uuid.uuid4().fields[-1])[:6]\n",
    "    \n",
    "# partially correct\n",
    "print(Product.__dict__)\n",
    "\n",
    "# actual answer\n",
    "for key in Product.__dict__:\n",
    "    print(key)"
   ]
  },
  {
   "cell_type": "markdown",
   "id": "05d3b480",
   "metadata": {},
   "source": [
    "#### Question 2\n",
    "```\n",
    "2.Implement a function called stick( ) that takes any number of bare arguments and\n",
    "return an object of type\n",
    "25 str being a concatenation of all arguments of type str passed to the function with\n",
    "the '#' sign (see below).\n",
    "26 Example:\n",
    "27 [IN]: stick('sport', 'summer', 4, True)\n",
    "28 [OUT]: 'sport#summer’\n",
    "29 As an answer call the stick( ) function in the following ways (print the result to\n",
    "the console):\n",
    "30 • stick('sport', 'summer')\n",
    "31 • stick(3, 5, 7)\n",
    "32 stick(False, 'time'. True, 'workout', [], 'gym')\n",
    "33 Expected result:\n",
    "34 Sport#sumer\n",
    "35 time#workout#gym\n",
    "```"
   ]
  },
  {
   "cell_type": "code",
   "execution_count": null,
   "id": "044a281b",
   "metadata": {},
   "outputs": [],
   "source": [
    "def stick(*args):\n",
    "    output=''\n",
    "    i=0\n",
    "    for arg in args:\n",
    "        if isinstance(arg,str):\n",
    "            if i==0:\n",
    "                output+=arg\n",
    "            else:\n",
    "                output = output+'#'+arg\n",
    "            i+=1\n",
    "    return output\n",
    "\n",
    "print(stick(3,5,7))"
   ]
  },
  {
   "cell_type": "markdown",
   "id": "da5d6a17",
   "metadata": {},
   "source": [
    "#### Question 3\n",
    "```\n",
    "3. The implementation of the Vehicle class is given:\n",
    "38 class Vehicle:\n",
    "39 This is a Vehicle class.\n",
    "40 Display the value of the name attribute of the Vehicle class to the console.\n",
    "41 Expected result:\n",
    "42 Vehicle\n",
    "\n",
    "```"
   ]
  },
  {
   "cell_type": "code",
   "execution_count": null,
   "id": "3e1a96de",
   "metadata": {},
   "outputs": [],
   "source": [
    "class Vehicle:\n",
    "    def __init__(self):\n",
    "        pass\n",
    "\n",
    "print(Vehicle.__name__)"
   ]
  },
  {
   "cell_type": "markdown",
   "id": "d64e9739",
   "metadata": {},
   "source": [
    "#### Question 4\n",
    "```\n",
    "4. Define a simple class named Model. Then create an instance of this class named\n",
    "model.\n",
    "45 Using the built-in function isinstance( ) check if the model is an instance of the\n",
    "Model class. Print the\n",
    "46 result to the console.\n",
    "```"
   ]
  },
  {
   "cell_type": "code",
   "execution_count": null,
   "id": "74eed6fe",
   "metadata": {},
   "outputs": [],
   "source": [
    "class Model:\n",
    "    def __init__(self):\n",
    "        pass\n",
    "\n",
    "model = Model()\n",
    "print(isinstance(model,Model))\n"
   ]
  },
  {
   "cell_type": "markdown",
   "id": "7eb27436",
   "metadata": {},
   "source": [
    "#### Question 5\n",
    "```\n",
    "5.Implement a class named Phone. In the Phone class, define two class attributes with\n",
    "names:\n",
    "49 • brand\n",
    "50 • model\n",
    "51 and set their values to:\n",
    "52 • 'Apple'\n",
    "53 • ‘iPhone X'\n",
    "54 Then use the built-in functions getattr() and print () to display the values of the\n",
    "given attributes of the Phone\n",
    "55 class to the console as shown below.\n",
    "```"
   ]
  },
  {
   "cell_type": "code",
   "execution_count": null,
   "id": "59aee7ee",
   "metadata": {},
   "outputs": [],
   "source": [
    "class Phone:\n",
    "    brand = \"Apple\"\n",
    "    model = \"Iphone x\"\n",
    "\n",
    "\n",
    "print(getattr(Phone,'brand'))\n",
    "print(getattr(Phone,'model'))\n",
    "print(Phone.__dict__)"
   ]
  },
  {
   "cell_type": "markdown",
   "id": "c7fa5211",
   "metadata": {},
   "source": [
    "#### Question 6\n",
    "```\n",
    "6.A class named OnlineShop was defined with the class attributes set accordingly:\n",
    "58 • Sector to the Value 'electronics'\n",
    "59 • sector_code to the value 'ele'\n",
    "60 • is_public_company to the value False\n",
    "61 Using the del statement remove the class attribute named sector_code. In response,\n",
    "print the rest of the userdefined\n",
    "62 OnlineShop class attribute names as a list as shown below.\n",
    "63 Expected result:\n",
    "64 [ ' sector',‘is_public_company’]\n",
    "```"
   ]
  },
  {
   "cell_type": "code",
   "execution_count": null,
   "id": "80c67d58",
   "metadata": {},
   "outputs": [],
   "source": [
    "class OnlineShop:\n",
    "    Sector = \"electronics\"\n",
    "    sector_code = \"ele\"\n",
    "    is_public_company = False\n",
    "\n",
    "del OnlineShop.sector_code\n",
    "userdefined = []\n",
    "for attr in OnlineShop.__dict__:\n",
    "    if not attr.startswith('__'):\n",
    "        userdefined.append(attr)\n",
    "\n",
    "print(userdefined)"
   ]
  },
  {
   "cell_type": "markdown",
   "id": "8525c5be",
   "metadata": {},
   "source": [
    "#### Question 7\n",
    "```\n",
    "7.Implement the HouseProject class with class attributes respectively:\n",
    "67 • number_of_floors = 3\n",
    "68 • area = 100\n",
    "69 Then, in the HouseProject class implement a function (class callable attribute) called\n",
    "70 describe_project( ), which displays basic information about the project as follows:\n",
    "71 Floor number: 3\n",
    "72 Area: 100\n",
    "```"
   ]
  },
  {
   "cell_type": "code",
   "execution_count": null,
   "id": "98a74306",
   "metadata": {},
   "outputs": [],
   "source": [
    "class HouseProject:\n",
    "    number_of_floor = 3\n",
    "    area = 100\n",
    "\n",
    "    @classmethod\n",
    "    def describe_project(cls):\n",
    "        print(f'Floor number: {cls.number_of_floor}')\n",
    "        print(f'Area: {cls.area}')\n",
    "\n",
    "HouseProject.describe_project()"
   ]
  },
  {
   "cell_type": "markdown",
   "id": "5df18942",
   "metadata": {},
   "source": [
    "#### Question 8\n",
    "```\n",
    "74 8. The Book class is defined. A list books_data is also given.\n",
    "75 books_data = [\n",
    "76 {'author': 'Dan Brown', 'title': 'Inferno'},\n",
    "77 {'author': 'Dan Brown', 'title': 'The Da Vinci Code', 'year_of_publishnent': 2003}\n",
    "78 ]\n",
    "79 Based on this data, create two instances of the Book class, where the instance\n",
    "attributes will be the keys from\n",
    "80 the given dictionaries (books_data list) with their corresponding values.\n",
    "81 In response, print the _dict_ attributes of the objects to the console as shown below.\n",
    "82 Expected result:\n",
    "83 {'author': 'Dan Brown', 'title': 'Inferno'}\n",
    "84 {'author': 'Dan Brown', 'title': 'The Da Vinci Code', 'year_of_publishment': 2003}\n",
    "```"
   ]
  },
  {
   "cell_type": "code",
   "execution_count": null,
   "id": "2f4565cd",
   "metadata": {},
   "outputs": [],
   "source": [
    "from typing import Optional\n",
    "class Book:\n",
    "    def __init__(self,author,title,year_of_publishment:Optional[str]):\n",
    "        self.author = author\n",
    "        self.title = title\n",
    "        self.year_of_publishment = year_of_publishment\n",
    "\n",
    "books = []\n",
    "for book in books:\n",
    "    keys = book.get_keys()\n",
    "    books[book] = book(keys)\n",
    "\n",
    "for book in books:\n",
    "    print(book.__dict__)"
   ]
  },
  {
   "cell_type": "markdown",
   "id": "960f6ca9",
   "metadata": {},
   "source": [
    "#### Question 9\n",
    "```\n",
    "9.A class called Laptop was implemented.\n",
    "87 Implement a method in the Laptop class called display_attrs_with_values() , which\n",
    "displays the names of all\n",
    "88 the attributes of the Laptop class with their values as shown below (attribute name\n",
    "-> attribute value).\n",
    "89 Then create an instance named laptop with the following values:\n",
    "90 • brand = 'Dell'\n",
    "91 model = 'Inspiron'\n",
    "92 price = 3699\n",
    "93 In response, call display_attrs_with_values( ) method on the laptop instance.\n",
    "94 Expected result:\n",
    "95 brand - Dell\n",
    "96 model - Inspiron\n",
    "97 price -3699\n",
    "```\n"
   ]
  },
  {
   "cell_type": "code",
   "execution_count": null,
   "id": "3f91a471",
   "metadata": {},
   "outputs": [],
   "source": [
    "class Laptop:\n",
    "    def __init__(self,brand,model,price):\n",
    "        self.brand = brand\n",
    "        self.model = model\n",
    "        self.price = price\n",
    "\n",
    "    def display_attr_with_values(self):\n",
    "        return f'brand - {self.brand}\\nmodel - {self.model}\\nprice - {self.price}'\n",
    "    \n",
    "\n",
    "lp = Laptop('Dell','Inspirion',3699)\n",
    "print(lp.display_attr_with_values())a"
   ]
  },
  {
   "cell_type": "markdown",
   "id": "e14fd03d",
   "metadata": {},
   "source": [
    "#### Question 10\n",
    "```\n",
    "10.Implement a class called Laptop that sets the following instance\n",
    "100 attributes when creating an instance:\n",
    "101 • brand\n",
    "102 • model\n",
    "103 • price\n",
    "104 When creating an instance, add validation for the price attribute. The value\n",
    "105 of the price attribute must be an int or float type greater than zero. If it is\n",
    "106 not, raise the TypeError with the following message:The price attribute must be a\n",
    "positive int or float\n",
    "107 Then create an instance called laptop with the given attributes:\n",
    "108 • brand = 'Acer'\n",
    "109 • model = 'Predator'\n",
    "110 • price = 5490\n",
    "111 In response, print the value of the _dict_ attribute of the laptop instance.\n",
    "112 Expected result:\n",
    "113 {'brand ' :'Acer', 'model': 'Predator', 'price': 5490}\n",
    "```"
   ]
  },
  {
   "cell_type": "code",
   "execution_count": null,
   "id": "38bb7189",
   "metadata": {},
   "outputs": [],
   "source": [
    "class Laptop:\n",
    "    def __init__(self,brand,model,price):\n",
    "        if not isinstance(price,(int,float)) or price <0:\n",
    "            raise TypeError(\"The price attribute must be a positive int or float\")\n",
    "        self.brand = brand\n",
    "        self.model = model\n",
    "        self.price = price\n",
    "\n",
    "lp = Laptop(\"Acer\",\"Predator\",5490)\n",
    "print(lp.__dict__)\n",
    "    "
   ]
  },
  {
   "cell_type": "markdown",
   "id": "3d72ca34",
   "metadata": {},
   "source": [
    "#### Question 11\n",
    "```\n",
    " 11. Implement a class called Laptop that sets the following instance attributes\n",
    "116 when creating an instance:\n",
    "117 • brand as a bare instance attribute\n",
    "118 • model as a protected attribute\n",
    "119 • price as a private attribute\n",
    "\n",
    "```\n"
   ]
  },
  {
   "cell_type": "code",
   "execution_count": null,
   "id": "72566657",
   "metadata": {},
   "outputs": [],
   "source": [
    "class Laptop:\n",
    "    def __init__(self,brand,model,price):\n",
    "        self.brand = brand\n",
    "        self._model = model\n",
    "        self.__price = price"
   ]
  },
  {
   "cell_type": "markdown",
   "id": "af656e1f",
   "metadata": {},
   "source": [
    "#### Question 12_1\n",
    "```\n",
    "12.Implement a class called Laptop which in the init ( ) method sets the value of\n",
    "121 the price protected attribute that stores the price of the laptop (without any\n",
    "validation).\n",
    "122 Then implement a method to read that attribute named get_price() and a method\n",
    "123 to modify that attribute named set_price( ) without validation as well.\n",
    "124 Then create an instance of the Laptop class with a price of 3499 and follow these\n",
    "125 steps:\n",
    "126 • using the get_price( ) method print the value of the price protected attribute to\n",
    "127 the console\n",
    "128 • using the set_price( ) method, set the value of the price protected attribute to\n",
    "129 3999\n",
    "130 • using the get_price( ) method print the value of the price protected attribute to\n",
    "the console\n",
    "131 Expected result:\n",
    "132 3499\n",
    "133 3999\n",
    "```"
   ]
  },
  {
   "cell_type": "code",
   "execution_count": null,
   "id": "71af66db",
   "metadata": {},
   "outputs": [],
   "source": [
    "class Laptop:\n",
    "    def __init__(self,brand,model,price):\n",
    "        self.brand = brand\n",
    "        self.model = model\n",
    "        self._price = price\n",
    "\n",
    "    def get_price(self):\n",
    "        return self._price\n",
    "    def set_price(self,newprice):\n",
    "        self._price = newprice\n",
    "\n",
    "lp = Laptop('Acer','Predator',3499)\n",
    "print(lp.get_price())\n",
    "lp.set_price(3999)\n",
    "print(lp.get_price())"
   ]
  },
  {
   "cell_type": "markdown",
   "id": "a2e20013",
   "metadata": {},
   "source": [
    "#### Question 12_2\n",
    "```\n",
    "12. You are given a list of student dictionaries, where each dictionary contains\n",
    "information about a student’s name, grades, and attendance. Write a Python function\n",
    "that filters out students who meet the following criteria:\n",
    "136\n",
    "137 1.Have an average grade below 75.\n",
    "138 2.Have attended less than 80% of classes.\n",
    "139 The function should return a new list of dictionaries with only the students who meet\n",
    "both criteria, along with their calculated average grades.\n",
    "140 students = [\n",
    "141 {\"name\": \"Alice\", \"grades\": [80, 90, 70], \"attendance\": 0.9},\n",
    "142 {\"name\": \"Bob\", \"grades\": [60, 65, 70], \"attendance\": 0.85},\n",
    "143 {\"name\": \"Charlie\", \"grades\": [95, 100, 92], \"attendance\": 0.78},\n",
    "144 {\"name\": \"David\", \"grades\": [55, 60, 65], \"attendance\": 0.9},\n",
    "145 ]\n",
    "\n",
    "```"
   ]
  },
  {
   "cell_type": "code",
   "execution_count": null,
   "id": "9f6531fe",
   "metadata": {},
   "outputs": [],
   "source": [
    "from functools import reduce\n",
    "def func(list1:list):\n",
    "    result = []\n",
    "    for i in list1:\n",
    "        grades = i['grades']\n",
    "        total = reduce(lambda x,y: x+y,grades)\n",
    "        avg = total/len(grades)\n",
    "        i['avg_grades'] = avg\n",
    "        if avg>75 and i['attendance']>0.8:\n",
    "                result.append(i)\n",
    "    return result\n",
    "students = [\n",
    " {\"name\": \"Alice\", \"grades\": [80, 90, 70], \"attendance\": 0.9},\n",
    " {\"name\": \"Bob\", \"grades\": [60, 65, 70], \"attendance\": 0.85},\n",
    " {\"name\": \"Charlie\", \"grades\": [95, 100, 92], \"attendance\": 0.78},\n",
    " {\"name\": \"David\", \"grades\": [55, 60, 65], \"attendance\": 0.9},\n",
    " ]\n",
    "print(func(students))"
   ]
  },
  {
   "cell_type": "markdown",
   "id": "5ff7711e",
   "metadata": {},
   "source": [
    "#### Question 13\n",
    "```\n",
    "13. Create a function greet_students that greets a variable number of students by\n",
    "their names. The function should:\n",
    "147\n",
    "148 1.Take greeting, which specifies the greeting message must be first word (e.g.,\n",
    "\"Hello\").\n",
    "149 2.accept any number of names.\n",
    "150 3.Optionally take a keyword argument, capitalize, which, when set to True,\n",
    "capitalizes each name in the greeting.\n",
    "151\n",
    "152 The function should print the greeting followed by each student's name. If capitalize\n",
    "is True, print names in uppercase.\n",
    "153 # Expected output:\n",
    "154 Welcome ALICE\n",
    "155 Welcome BOB\n",
    "156 Welcome CHARLIE\n",
    "\n",
    "```"
   ]
  },
  {
   "cell_type": "code",
   "execution_count": null,
   "id": "4c416224",
   "metadata": {},
   "outputs": [],
   "source": [
    "def greet_students(*args,capitalize = False):\n",
    "    if capitalize==True:\n",
    "        for arg in args:\n",
    "            print(f'Hello {arg.upper()}')\n",
    "    else:\n",
    "        for arg in args:\n",
    "            print(f'Hello {arg}')\n",
    "\n",
    "\n",
    "greet_students(\"alice\",\"bob\",\"charlie\",capitalize=True)"
   ]
  },
  {
   "cell_type": "markdown",
   "id": "e74804e3",
   "metadata": {},
   "source": [
    "#### Question 14\n",
    "```\n",
    "14. Write a function order_summary that calculates the total cost of an order after\n",
    "applying a discount, if specified, and then prints any additional details provided\n",
    "about the order.\n",
    "159\n",
    "160 The function should:\n",
    "161 1.Take order_items, a list of item prices, as a required positional argument.\n",
    "162 2.Optionally accept a discount percentage (e.g., 10 for 10% off).\n",
    "163 3.If additional information is provided (such as customer_name, address, or\n",
    "delivery_date), print each one in the format: Key: Value.\n",
    "164\n",
    "165 The function should print:\n",
    "166 The total cost after applying the discount.\n",
    "167 Each piece of extra information on a new line if provided.\n",
    "168 order_items = [50, 100, 25]\n",
    "169 Expected output:\n",
    "170 Total after discount: 157.5\n",
    "171 Customer Name: John Doe\n",
    "172 Address: 123 Elm St\n",
    "\n",
    "```"
   ]
  },
  {
   "cell_type": "code",
   "execution_count": null,
   "id": "2ca03d42",
   "metadata": {},
   "outputs": [],
   "source": [
    "from functools import reduce\n",
    "def order_summary(order_items,discount=0,**kwargs):\n",
    "    total = reduce(lambda x,y:x+y,order_items)\n",
    "    discounted = total - total*discount/100\n",
    "    print(f'total after discount : {discounted}')\n",
    "    for k,v in kwargs.items():\n",
    "        print(f'{k}:{v}')\n",
    "\n",
    "\n",
    "order_items = [50, 100, 25]\n",
    "\n",
    "order_summary(order_items, discount=10, customer_name=\"John Doe\", address=\"123 Elm St\")\n",
    "\n"
   ]
  },
  {
   "cell_type": "markdown",
   "id": "c6667c23",
   "metadata": {},
   "source": [
    "#### Question 15\n",
    "```\n",
    "15. Write a list comprehension that takes a list of numbers and returns a list of\n",
    "squares for only the even numbers.\n",
    "```"
   ]
  },
  {
   "cell_type": "code",
   "execution_count": null,
   "id": "a8ef3823",
   "metadata": {},
   "outputs": [],
   "source": [
    "list1 = [1,2,3,4,5,6,7,8,9,10]\n",
    "lst = [x**2 for x in list1 if x%2==0]\n",
    "print(lst)"
   ]
  },
  {
   "cell_type": "markdown",
   "id": "e819cc83",
   "metadata": {},
   "source": [
    "#### Question 16\n",
    "```\n",
    " 16. Write a function sum_above_threshold that takes a list of numbers and a\n",
    "threshold. It should return the sum of numbers that are greater than the threshold\n",
    "```"
   ]
  },
  {
   "cell_type": "code",
   "execution_count": null,
   "id": "2cc1d007",
   "metadata": {},
   "outputs": [],
   "source": [
    "def sum_above_threshold(list1:list , threshold:int):\n",
    "    tot = 0\n",
    "    for i in list1:\n",
    "        if i>threshold:\n",
    "            tot+=i\n",
    "    return tot\n",
    "\n",
    "\n",
    "list1 = [1,2,3,4,5,6,7,8,9,20,22]\n",
    "print(sum_above_threshold(list1,19))"
   ]
  },
  {
   "cell_type": "markdown",
   "id": "e01118b3",
   "metadata": {},
   "source": [
    "#### Question 17\n",
    "```\n",
    "17. Write a function merge_dictionaries that takes two dictionaries and merges them.\n",
    "If they have the same keys,\n",
    "176 the values should be added (assuming they are integers)\n",
    "```"
   ]
  },
  {
   "cell_type": "code",
   "execution_count": null,
   "id": "24b896dc",
   "metadata": {},
   "outputs": [],
   "source": [
    "def merge_dictionarie(d1,d2):\n",
    "    for k,v in d2.items():\n",
    "        if k in d1:\n",
    "            d1[k] += v\n",
    "        else:\n",
    "            d1[k] = v\n",
    "    return d1"
   ]
  },
  {
   "cell_type": "markdown",
   "id": "b53f9ab6",
   "metadata": {},
   "source": [
    "#### Question 18\n",
    "```\n",
    "18. Given a dictionary of item names and prices, write a function sort_items_by_price\n",
    "that returns a list of tuples sorted by price in descending order.\n",
    "```"
   ]
  },
  {
   "cell_type": "code",
   "execution_count": 1,
   "id": "c21aca17",
   "metadata": {},
   "outputs": [
    {
     "name": "stdout",
     "output_type": "stream",
     "text": [
      "[('laptop', 1200), ('phone', 800), ('tablet', 450), ('headphones', 200)]\n"
     ]
    }
   ],
   "source": [
    "def sort_items_by_price(dict1):\n",
    "    list1 = list(dict1.items())\n",
    "    list_sorted = sorted(list1,key = lambda x: x[1],reverse = True)\n",
    "    return list_sorted\n",
    "\n",
    "items = {\n",
    "    \"laptop\": 1200,\n",
    "    \"phone\": 800,\n",
    "    \"tablet\": 450,\n",
    "    \"headphones\": 200\n",
    "}\n",
    "\n",
    "# Call the function and print the result\n",
    "sorted_items = sort_items_by_price(items)\n",
    "print(sorted_items)"
   ]
  },
  {
   "cell_type": "markdown",
   "id": "0c7f7ce5",
   "metadata": {},
   "source": [
    "#### Question 19\n",
    "```\n",
    "19. Write a function rotate_list that rotates a given list to the right by a\n",
    "specified number of steps. The rotation should be done in such a way that\n",
    "179 the elements that move past the end of the list wrap around to the beginning.\n",
    "180\n",
    "181 rotate_list([1, 2, 3, 4, 5], 2)\n",
    "182 # Output: [4, 5, 1, 2, 3]\n",
    "183\n",
    "184 rotate_list([1, 2, 3, 4, 5], -3)\n",
    "185 # Output: [3, 4, 5, 1, 2]\n",
    "186\n",
    "187 rotate_list([1, 2, 3], 0)\n",
    "188 # Output: [1, 2, 3]\n",
    "```"
   ]
  },
  {
   "cell_type": "code",
   "execution_count": null,
   "id": "9e808af2",
   "metadata": {},
   "outputs": [],
   "source": [
    "def rotate(list1,k):\n",
    "    n = len(list1)\n",
    "    if n == 0:\n",
    "        return []\n",
    "    k = k%n\n",
    "    return list1[k:]+list1[:k]\n",
    "\n",
    "list1 = [1,2,3,4,5]\n",
    "print(rotate(list1,2))\n",
    "print(rotate(list1,-3))\n",
    "print(rotate(list1,0))"
   ]
  },
  {
   "cell_type": "markdown",
   "id": "16bd56df",
   "metadata": {},
   "source": [
    "#### Question 20\n",
    "```\n",
    "20. Write a function count_char_frequencies that takes a string and returns a\n",
    "dictionary with the frequency count of each character in the string,\n",
    "190 ignoring spaces and considering uppercase and lowercase characters as the same.\n",
    "191 example:\n",
    "192 count_char_frequencies(\"Hello World\")\n",
    "193 # Output: {'h': 1, 'e': 1, 'l': 3, 'o': 2, 'w': 1, 'r': 1, 'd': 1}\n",
    "```"
   ]
  },
  {
   "cell_type": "code",
   "execution_count": null,
   "id": "44aff9cc",
   "metadata": {},
   "outputs": [],
   "source": [
    "def char_count_frequencies(string):\n",
    "    freq = {}\n",
    "    for char in string:\n",
    "        if char == \" \":\n",
    "            continue\n",
    "        if char not in freq:\n",
    "            freq[char] = 1\n",
    "        else:\n",
    "            freq[char] += 1\n",
    "    return freq\n",
    "\n",
    "str = \"Hello World\"\n",
    "print(char_count_frequencies(str))"
   ]
  }
 ],
 "metadata": {
  "kernelspec": {
   "display_name": "Python 3",
   "language": "python",
   "name": "python3"
  },
  "language_info": {
   "codemirror_mode": {
    "name": "ipython",
    "version": 3
   },
   "file_extension": ".py",
   "mimetype": "text/x-python",
   "name": "python",
   "nbconvert_exporter": "python",
   "pygments_lexer": "ipython3",
   "version": "3.13.3"
  }
 },
 "nbformat": 4,
 "nbformat_minor": 5
}
